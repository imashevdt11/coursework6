{
 "cells": [
  {
   "cell_type": "code",
   "id": "e3ef4105-f0de-497c-8e6d-56a9e06c9873",
   "metadata": {
    "ExecuteTime": {
     "end_time": "2024-05-26T03:34:16.880030Z",
     "start_time": "2024-05-26T03:34:09.822825Z"
    }
   },
   "source": [
    "import collections\n",
    "import matplotlib.pyplot as plt\n",
    "import nltk\n",
    "from nltk.corpus import opinion_lexicon\n",
    "from nltk.corpus import stopwords\n",
    "from nltk.tokenize import word_tokenize\n",
    "import pandas as pd\n",
    "import re\n",
    "import seaborn as sns\n",
    "from sklearn.ensemble import RandomForestClassifier\n",
    "from sklearn.feature_extraction.text import CountVectorizer, TfidfVectorizer\n",
    "from sklearn.linear_model import LogisticRegression\n",
    "from sklearn.metrics import accuracy_score\n",
    "from sklearn.model_selection import train_test_split\n",
    "from sklearn.naive_bayes import MultinomialNB\n",
    "import spacy\n",
    "from spacy.lang.en.stop_words import STOP_WORDS\n",
    "import warnings"
   ],
   "outputs": [],
   "execution_count": 2
  },
  {
   "metadata": {
    "ExecuteTime": {
     "end_time": "2024-05-26T03:34:22.446111Z",
     "start_time": "2024-05-26T03:34:19.624011Z"
    }
   },
   "cell_type": "code",
   "source": "df = pd.read_csv('Datafiniti_Hotel_Reviews.csv')",
   "id": "bbed86badb7b955a",
   "outputs": [],
   "execution_count": 3
  },
  {
   "cell_type": "code",
   "id": "61445207-5090-448b-9adf-eb9b2ce0b37e",
   "metadata": {},
   "source": [
    "def clean_text(text):\n",
    "    cleaned_text = re.sub(r' [^a-zA-Z\\s]', '', str(text))\n",
    "    return cleaned_text\n",
    "\n",
    "df['cleaned_text'] = df['reviews.text'].apply(clean_text)\n",
    "\n",
    "print(df['cleaned_text'].head()) \n",
    "print(df['reviews.text'].head())"
   ],
   "outputs": [],
   "execution_count": null
  },
  {
   "cell_type": "code",
   "id": "15509350-cd0d-4d0c-8be7-b4ea32dc7e19",
   "metadata": {},
   "source": [
    "nltk.download('stopwords')\n",
    "nltk.download('punkt')\n",
    "nltk.download('wordnet')\n",
    "stop_words = set(stopwords.words('english'))"
   ],
   "outputs": [],
   "execution_count": null
  },
  {
   "cell_type": "code",
   "id": "d1fcdbb7-3941-42bb-b675-db7cf800daf8",
   "metadata": {},
   "source": [
    "df['tokenized_reviews'] = df['cleaned_text'].apply(word_tokenize)\n",
    "\n",
    "print(df['cleaned_text'].head()) \n",
    "print(df['tokenized_reviews'].head())"
   ],
   "outputs": [],
   "execution_count": null
  },
  {
   "cell_type": "code",
   "id": "dc8a48ba-bf9b-4cbd-a72b-772c98b14580",
   "metadata": {},
   "source": [
    "nlp = spacy.load(\"en_core_web_sm\")\n",
    "\n",
    "df['lemmatized_text'] = (df['tokenized_reviews'].apply\n",
    "        (lambda tokens: ' '.join([token.lemma_ for token in nlp(' '.join(tokens))])))\n",
    "\n",
    "print(df['tokenized_reviews'].head())\n",
    "print(df['lemmatized_text'].head())"
   ],
   "outputs": [],
   "execution_count": null
  },
  {
   "cell_type": "code",
   "id": "1c0f6e2b-6d01-4753-9013-c66aa418b124",
   "metadata": {},
   "source": [
    "df['stopwords_removed'] = df['lemmatized_text'].apply(lambda x: ' '.join([token.text for token in nlp(x) if token.text.lower() not in STOP_WORDS]))\n",
    "\n",
    "print(df['lemmatized_text'].head())\n",
    "print(df['stopwords_removed'].head())"
   ],
   "outputs": [],
   "execution_count": null
  },
  {
   "cell_type": "code",
   "id": "93986eba-3d17-4070-b017-a6aa1e045a40",
   "metadata": {},
   "source": [
    "nltk.download('opinion_lexicon')\n",
    "\n",
    "positive_words = set(opinion_lexicon.positive())\n",
    "negative_words = set(opinion_lexicon.negative())\n",
    "\n",
    "df['stopwords_removed'] = df['stopwords_removed'].fillna('')\n",
    "\n",
    "def classify_sentiment(review):\n",
    "    positive_count = sum(1 for word in positive_words if word in review)\n",
    "    negative_count = sum(1 for word in negative_words if word in review)\n",
    "    \n",
    "    if positive_count > negative_count:\n",
    "        return 'positive'\n",
    "    elif positive_count < negative_count:\n",
    "        return 'negative'\n",
    "    else:\n",
    "        return 'neutral'\n",
    "\n",
    "df['predicted_sentiment'] = df['stopwords_removed'].apply(classify_sentiment)\n",
    "\n",
    "print(df['stopwords_removed'].head())\n",
    "print(df['predicted_sentiment'].head())"
   ],
   "outputs": [],
   "execution_count": null
  },
  {
   "cell_type": "code",
   "id": "de845236-b995-47e6-bdb4-d7f17c192c09",
   "metadata": {},
   "source": [
    "sentiment_counts = df['predicted_sentiment'].value_counts()\n",
    "\n",
    "warnings.filterwarnings(\"ignore\", category=FutureWarning)\n",
    "\n",
    "counts = sentiment_counts.values\n",
    "labels = sentiment_counts.index\n",
    "\n",
    "plt.figure(figsize=(8, 6))\n",
    "sns.barplot(x=labels, y=counts, palette='viridis')\n",
    "plt.title('Соотношение Нейтральных, Положительных и Отрицательных отзывов')\n",
    "plt.xlabel('Тональность')\n",
    "plt.ylabel('Количество отзывов')\n",
    "plt.show()"
   ],
   "outputs": [],
   "execution_count": null
  },
  {
   "cell_type": "code",
   "id": "400ea83e-8f5b-4c31-b628-6cb8bb9b0300",
   "metadata": {},
   "source": [
    "sentiment_counts = df['predicted_sentiment'].value_counts()\n",
    "\n",
    "labels = sentiment_counts.index\n",
    "sizes = sentiment_counts.values\n",
    "colors = ['#99ff99','#66b3ff',  '#ff9999']\n",
    "\n",
    "plt.pie(sizes, labels=labels, autopct='%1.1f%%', startangle=90, colors=colors)\n",
    "\n",
    "centre_circle = plt.Circle((0,0),0.70,fc='white')\n",
    "fig = plt.gcf()\n",
    "fig.gca().add_artist(centre_circle)\n",
    "\n",
    "plt.axis('equal')\n",
    "\n",
    "plt.show()"
   ],
   "outputs": [],
   "execution_count": null
  },
  {
   "cell_type": "code",
   "id": "f243573b-9c91-411b-a982-751bd98aadf4",
   "metadata": {},
   "source": [
    "reviews = df['stopwords_removed']\n",
    "\n",
    "words = []\n",
    "for review in reviews:\n",
    "    words += str(review).split()\n",
    "\n",
    "word_counts = collections.Counter(words)\n",
    "\n",
    "print(word_counts.most_common(10))"
   ],
   "outputs": [],
   "execution_count": null
  },
  {
   "cell_type": "code",
   "source": [
    "X = df['stopwords_removed']\n",
    "y = df['predicted_sentiment']\n",
    "\n",
    "X_train, X_test, y_train, y_test = train_test_split(X, y, test_size=0.2, random_state=42)\n",
    "\n",
    "count_vectorizer = CountVectorizer(max_features=1000) \n",
    "X_train_bow = count_vectorizer.fit_transform(X_train)\n",
    "X_test_bow = count_vectorizer.transform(X_test)\n",
    "\n",
    "tfidf_vectorizer = TfidfVectorizer(max_features=1000) \n",
    "X_train_tfidf = tfidf_vectorizer.fit_transform(X_train)\n",
    "X_test_tfidf = tfidf_vectorizer.transform(X_test)"
   ],
   "metadata": {
    "collapsed": false,
    "ExecuteTime": {
     "end_time": "2024-05-26T03:45:06.220742Z",
     "start_time": "2024-05-26T03:45:03.613181Z"
    }
   },
   "id": "46264cf4-04cd-4087-861a-426363c2caa3",
   "outputs": [],
   "execution_count": 14
  },
  {
   "cell_type": "code",
   "id": "7c399f75-f9c3-4109-99af-3d59d2e724cf",
   "metadata": {},
   "source": [
    "model_lr = LogisticRegression()\n",
    "model_lr.fit(X_train_tfidf, y_train)\n",
    "\n",
    "y_pred = model_lr.predict(X_test_tfidf)\n",
    "\n",
    "accuracy = accuracy_score(y_test, y_pred)\n",
    "print(f'Точность: {accuracy}')"
   ],
   "outputs": [],
   "execution_count": null
  },
  {
   "cell_type": "code",
   "id": "855e7fa6-6559-435d-8182-f7b916dad4e0",
   "metadata": {},
   "source": [
    "model_nb = MultinomialNB()\n",
    "model_nb.fit(X_train_tfidf, y_train)\n",
    "\n",
    "y_pred_nb = model_nb.predict(X_test_tfidf)\n",
    "\n",
    "accuracy_nb = accuracy_score(y_test, y_pred_nb)\n",
    "print(f'Точность (Naive Bayes): {accuracy_nb}')"
   ],
   "outputs": [],
   "execution_count": null
  },
  {
   "cell_type": "code",
   "id": "58ca6463-c988-4233-9d8a-e916658fd14c",
   "metadata": {},
   "source": [
    "model_rf = RandomForestClassifier(n_estimators=100, random_state=42)\n",
    "model_rf.fit(X_train_tfidf, y_train)\n",
    "\n",
    "y_pred_rf = model_rf.predict(X_test_tfidf)\n",
    "\n",
    "accuracy_rf = accuracy_score(y_test, y_pred_rf)\n",
    "print(f'Точность: {accuracy_rf}')"
   ],
   "outputs": [],
   "execution_count": null
  },
  {
   "cell_type": "code",
   "id": "fb919321-a990-4dae-a944-f8e7c9e3a862",
   "metadata": {},
   "source": [
    "review_to_classify = \"Everything is good, except bathroom. Bathroom is bad. But other things are good.\"\n",
    "\n",
    "predicted_sentiment = classify_sentiment(review_to_classify)\n",
    "print(f\"Текст отзыва:\\n{review_to_classify}\\n\")\n",
    "print(f\"Предсказанная тональность: {predicted_sentiment}\")"
   ],
   "outputs": [],
   "execution_count": null
  }
 ],
 "metadata": {
  "kernelspec": {
   "display_name": "Python 3 (ipykernel)",
   "language": "python",
   "name": "python3"
  },
  "language_info": {
   "codemirror_mode": {
    "name": "ipython",
    "version": 3
   },
   "file_extension": ".py",
   "mimetype": "text/x-python",
   "name": "python",
   "nbconvert_exporter": "python",
   "pygments_lexer": "ipython3",
   "version": "3.11.5"
  }
 },
 "nbformat": 4,
 "nbformat_minor": 5
}
